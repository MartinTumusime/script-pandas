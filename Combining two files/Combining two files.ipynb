{
 "cells": [
  {
   "cell_type": "code",
   "execution_count": 5,
   "metadata": {},
   "outputs": [],
   "source": [
    "#script for combinig files\n",
    "\n",
    "#First import pandas\n",
    "import pandas as pd\n",
    "\n",
    "\n",
    "#access the excel sheets in the same folder\n",
    "excel1 = 'Workbook1.xlsx'\n",
    "excel2 = 'Workbook2.xlsx'\n",
    "\n",
    "#read the excell sheets into a dataframe with pandas \n",
    "\n",
    "df1 = pd.read_excel(excel1)\n",
    "df2 = pd.read_excel(excel2)\n",
    "\n",
    "#add the columns of each excel sheet into values variable, if they're not same try making them uniform. if you don't \n",
    "#how to do that please leave me a comment in the section below\n",
    "\n",
    "values1 = df1[['Index','Fruits','Mangoes','Beries']]\n",
    "values2 = df2[['Index','Fruits','Mangoes','Beries']]\n",
    "\n",
    "#create one dataframe for the columns\n",
    "\n",
    "dataframes = [values1, values2]\n",
    "\n",
    "#use the pd.concat to join the two files\n",
    "\n",
    "join = pd.concat(dataframes)\n",
    "\n",
    "#save the output in a given file\n",
    "\n",
    "join.to_excel('output.xlsx')\n",
    "\n",
    "#save files as .py and run it\n",
    "\n"
   ]
  },
  {
   "cell_type": "code",
   "execution_count": null,
   "metadata": {},
   "outputs": [],
   "source": []
  }
 ],
 "metadata": {
  "kernelspec": {
   "display_name": "Python 3",
   "language": "python",
   "name": "python3"
  },
  "language_info": {
   "codemirror_mode": {
    "name": "ipython",
    "version": 3
   },
   "file_extension": ".py",
   "mimetype": "text/x-python",
   "name": "python",
   "nbconvert_exporter": "python",
   "pygments_lexer": "ipython3",
   "version": "3.7.6"
  }
 },
 "nbformat": 4,
 "nbformat_minor": 4
}
